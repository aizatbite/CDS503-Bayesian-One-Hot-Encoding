{
  "nbformat": 4,
  "nbformat_minor": 0,
  "metadata": {
    "colab": {
      "provenance": [],
      "mount_file_id": "1tTYU97AUcPgI-kWS_-5DXwK14zQnnyUI",
      "authorship_tag": "ABX9TyNI1suKlh/vEWzKbp+Mz0aV",
      "include_colab_link": true
    },
    "kernelspec": {
      "name": "python3",
      "display_name": "Python 3"
    },
    "language_info": {
      "name": "python"
    }
  },
  "cells": [
    {
      "cell_type": "markdown",
      "metadata": {
        "id": "view-in-github",
        "colab_type": "text"
      },
      "source": [
        "<a href=\"https://colab.research.google.com/github/aizatbite/CDS503-Bayesian-One-Hot-Encoding/blob/main/Bayesian_Lab_3_(OHE).ipynb\" target=\"_parent\"><img src=\"https://colab.research.google.com/assets/colab-badge.svg\" alt=\"Open In Colab\"/></a>"
      ]
    },
    {
      "cell_type": "markdown",
      "metadata": {
        "id": "txNQdkq5kgy4"
      },
      "source": [
        "# Data"
      ]
    },
    {
      "cell_type": "code",
      "metadata": {
        "id": "xR5JL8DIBbIS"
      },
      "source": [
        "import pandas as pd"
      ],
      "execution_count": null,
      "outputs": []
    },
    {
      "cell_type": "code",
      "metadata": {
        "colab": {
          "base_uri": "https://localhost:8080/",
          "height": 202
        },
        "id": "PkzAsa3YBeJc",
        "outputId": "06a352ea-caa9-4863-87f3-b5436e613c2d"
      },
      "source": [
        "bd = pd.read_csv('/content/drive/MyDrive/bankdata.csv')\n",
        "bd.head()"
      ],
      "execution_count": null,
      "outputs": [
        {
          "output_type": "execute_result",
          "data": {
            "text/html": [
              "<div>\n",
              "<style scoped>\n",
              "    .dataframe tbody tr th:only-of-type {\n",
              "        vertical-align: middle;\n",
              "    }\n",
              "\n",
              "    .dataframe tbody tr th {\n",
              "        vertical-align: top;\n",
              "    }\n",
              "\n",
              "    .dataframe thead th {\n",
              "        text-align: right;\n",
              "    }\n",
              "</style>\n",
              "<table border=\"1\" class=\"dataframe\">\n",
              "  <thead>\n",
              "    <tr style=\"text-align: right;\">\n",
              "      <th></th>\n",
              "      <th>id</th>\n",
              "      <th>age</th>\n",
              "      <th>sex</th>\n",
              "      <th>region</th>\n",
              "      <th>income</th>\n",
              "      <th>married</th>\n",
              "      <th>children</th>\n",
              "      <th>car</th>\n",
              "      <th>save_act</th>\n",
              "      <th>current_act</th>\n",
              "      <th>mortgage</th>\n",
              "      <th>pep</th>\n",
              "    </tr>\n",
              "  </thead>\n",
              "  <tbody>\n",
              "    <tr>\n",
              "      <th>0</th>\n",
              "      <td>ID12101</td>\n",
              "      <td>48</td>\n",
              "      <td>FEMALE</td>\n",
              "      <td>INNER_CITY</td>\n",
              "      <td>17546.0</td>\n",
              "      <td>NO</td>\n",
              "      <td>1</td>\n",
              "      <td>NO</td>\n",
              "      <td>NO</td>\n",
              "      <td>NO</td>\n",
              "      <td>NO</td>\n",
              "      <td>YES</td>\n",
              "    </tr>\n",
              "    <tr>\n",
              "      <th>1</th>\n",
              "      <td>ID12102</td>\n",
              "      <td>40</td>\n",
              "      <td>MALE</td>\n",
              "      <td>TOWN</td>\n",
              "      <td>30085.1</td>\n",
              "      <td>YES</td>\n",
              "      <td>3</td>\n",
              "      <td>YES</td>\n",
              "      <td>NO</td>\n",
              "      <td>YES</td>\n",
              "      <td>YES</td>\n",
              "      <td>NO</td>\n",
              "    </tr>\n",
              "    <tr>\n",
              "      <th>2</th>\n",
              "      <td>ID12103</td>\n",
              "      <td>51</td>\n",
              "      <td>FEMALE</td>\n",
              "      <td>INNER_CITY</td>\n",
              "      <td>16575.4</td>\n",
              "      <td>YES</td>\n",
              "      <td>0</td>\n",
              "      <td>YES</td>\n",
              "      <td>YES</td>\n",
              "      <td>YES</td>\n",
              "      <td>NO</td>\n",
              "      <td>NO</td>\n",
              "    </tr>\n",
              "    <tr>\n",
              "      <th>3</th>\n",
              "      <td>ID12104</td>\n",
              "      <td>23</td>\n",
              "      <td>FEMALE</td>\n",
              "      <td>TOWN</td>\n",
              "      <td>20375.4</td>\n",
              "      <td>YES</td>\n",
              "      <td>3</td>\n",
              "      <td>NO</td>\n",
              "      <td>NO</td>\n",
              "      <td>YES</td>\n",
              "      <td>NO</td>\n",
              "      <td>NO</td>\n",
              "    </tr>\n",
              "    <tr>\n",
              "      <th>4</th>\n",
              "      <td>ID12105</td>\n",
              "      <td>57</td>\n",
              "      <td>FEMALE</td>\n",
              "      <td>RURAL</td>\n",
              "      <td>50576.3</td>\n",
              "      <td>YES</td>\n",
              "      <td>0</td>\n",
              "      <td>NO</td>\n",
              "      <td>YES</td>\n",
              "      <td>NO</td>\n",
              "      <td>NO</td>\n",
              "      <td>NO</td>\n",
              "    </tr>\n",
              "  </tbody>\n",
              "</table>\n",
              "</div>"
            ],
            "text/plain": [
              "        id  age     sex      region  ...  save_act current_act  mortgage  pep\n",
              "0  ID12101   48  FEMALE  INNER_CITY  ...        NO          NO        NO  YES\n",
              "1  ID12102   40    MALE        TOWN  ...        NO         YES       YES   NO\n",
              "2  ID12103   51  FEMALE  INNER_CITY  ...       YES         YES        NO   NO\n",
              "3  ID12104   23  FEMALE        TOWN  ...        NO         YES        NO   NO\n",
              "4  ID12105   57  FEMALE       RURAL  ...       YES          NO        NO   NO\n",
              "\n",
              "[5 rows x 12 columns]"
            ]
          },
          "metadata": {
            "tags": []
          },
          "execution_count": 2
        }
      ]
    },
    {
      "cell_type": "code",
      "metadata": {
        "colab": {
          "base_uri": "https://localhost:8080/",
          "height": 202
        },
        "id": "qKvvG4E7CIzn",
        "outputId": "5599e023-edbd-41e3-b120-127ea442a10e"
      },
      "source": [
        "#drop identity attribute\n",
        "bd = bd.drop('id', axis = 1)\n",
        "bd.head()"
      ],
      "execution_count": null,
      "outputs": [
        {
          "output_type": "execute_result",
          "data": {
            "text/html": [
              "<div>\n",
              "<style scoped>\n",
              "    .dataframe tbody tr th:only-of-type {\n",
              "        vertical-align: middle;\n",
              "    }\n",
              "\n",
              "    .dataframe tbody tr th {\n",
              "        vertical-align: top;\n",
              "    }\n",
              "\n",
              "    .dataframe thead th {\n",
              "        text-align: right;\n",
              "    }\n",
              "</style>\n",
              "<table border=\"1\" class=\"dataframe\">\n",
              "  <thead>\n",
              "    <tr style=\"text-align: right;\">\n",
              "      <th></th>\n",
              "      <th>age</th>\n",
              "      <th>sex</th>\n",
              "      <th>region</th>\n",
              "      <th>income</th>\n",
              "      <th>married</th>\n",
              "      <th>children</th>\n",
              "      <th>car</th>\n",
              "      <th>save_act</th>\n",
              "      <th>current_act</th>\n",
              "      <th>mortgage</th>\n",
              "      <th>pep</th>\n",
              "    </tr>\n",
              "  </thead>\n",
              "  <tbody>\n",
              "    <tr>\n",
              "      <th>0</th>\n",
              "      <td>48</td>\n",
              "      <td>FEMALE</td>\n",
              "      <td>INNER_CITY</td>\n",
              "      <td>17546.0</td>\n",
              "      <td>NO</td>\n",
              "      <td>1</td>\n",
              "      <td>NO</td>\n",
              "      <td>NO</td>\n",
              "      <td>NO</td>\n",
              "      <td>NO</td>\n",
              "      <td>YES</td>\n",
              "    </tr>\n",
              "    <tr>\n",
              "      <th>1</th>\n",
              "      <td>40</td>\n",
              "      <td>MALE</td>\n",
              "      <td>TOWN</td>\n",
              "      <td>30085.1</td>\n",
              "      <td>YES</td>\n",
              "      <td>3</td>\n",
              "      <td>YES</td>\n",
              "      <td>NO</td>\n",
              "      <td>YES</td>\n",
              "      <td>YES</td>\n",
              "      <td>NO</td>\n",
              "    </tr>\n",
              "    <tr>\n",
              "      <th>2</th>\n",
              "      <td>51</td>\n",
              "      <td>FEMALE</td>\n",
              "      <td>INNER_CITY</td>\n",
              "      <td>16575.4</td>\n",
              "      <td>YES</td>\n",
              "      <td>0</td>\n",
              "      <td>YES</td>\n",
              "      <td>YES</td>\n",
              "      <td>YES</td>\n",
              "      <td>NO</td>\n",
              "      <td>NO</td>\n",
              "    </tr>\n",
              "    <tr>\n",
              "      <th>3</th>\n",
              "      <td>23</td>\n",
              "      <td>FEMALE</td>\n",
              "      <td>TOWN</td>\n",
              "      <td>20375.4</td>\n",
              "      <td>YES</td>\n",
              "      <td>3</td>\n",
              "      <td>NO</td>\n",
              "      <td>NO</td>\n",
              "      <td>YES</td>\n",
              "      <td>NO</td>\n",
              "      <td>NO</td>\n",
              "    </tr>\n",
              "    <tr>\n",
              "      <th>4</th>\n",
              "      <td>57</td>\n",
              "      <td>FEMALE</td>\n",
              "      <td>RURAL</td>\n",
              "      <td>50576.3</td>\n",
              "      <td>YES</td>\n",
              "      <td>0</td>\n",
              "      <td>NO</td>\n",
              "      <td>YES</td>\n",
              "      <td>NO</td>\n",
              "      <td>NO</td>\n",
              "      <td>NO</td>\n",
              "    </tr>\n",
              "  </tbody>\n",
              "</table>\n",
              "</div>"
            ],
            "text/plain": [
              "   age     sex      region   income  ... save_act  current_act mortgage  pep\n",
              "0   48  FEMALE  INNER_CITY  17546.0  ...       NO           NO       NO  YES\n",
              "1   40    MALE        TOWN  30085.1  ...       NO          YES      YES   NO\n",
              "2   51  FEMALE  INNER_CITY  16575.4  ...      YES          YES       NO   NO\n",
              "3   23  FEMALE        TOWN  20375.4  ...       NO          YES       NO   NO\n",
              "4   57  FEMALE       RURAL  50576.3  ...      YES           NO       NO   NO\n",
              "\n",
              "[5 rows x 11 columns]"
            ]
          },
          "metadata": {
            "tags": []
          },
          "execution_count": 3
        }
      ]
    },
    {
      "cell_type": "code",
      "metadata": {
        "colab": {
          "base_uri": "https://localhost:8080/"
        },
        "id": "xcNj1ZloC5WI",
        "outputId": "2ba0ac8f-582d-46bb-f275-ed13610eb158"
      },
      "source": [
        "#untuk tengok data types\n",
        "bd.dtypes"
      ],
      "execution_count": null,
      "outputs": [
        {
          "output_type": "execute_result",
          "data": {
            "text/plain": [
              "age              int64\n",
              "sex             object\n",
              "region          object\n",
              "income         float64\n",
              "married         object\n",
              "children         int64\n",
              "car             object\n",
              "save_act        object\n",
              "current_act     object\n",
              "mortgage        object\n",
              "pep             object\n",
              "dtype: object"
            ]
          },
          "metadata": {
            "tags": []
          },
          "execution_count": 4
        }
      ]
    },
    {
      "cell_type": "code",
      "metadata": {
        "colab": {
          "base_uri": "https://localhost:8080/",
          "height": 202
        },
        "id": "4y7O4ovuH1K_",
        "outputId": "bb49efcc-35f0-4562-85bc-8b5ca9fce809"
      },
      "source": [
        "#import LabelEncoder\n",
        "from sklearn import preprocessing\n",
        "\n",
        "#create LabelEncoder\n",
        "le = preprocessing.LabelEncoder()\n",
        "\n",
        "#convert string categories into numerical for sex, region, married, car, save_act, current_act, mortgage, pep\n",
        "bd['sex']  = le.fit_transform(bd['sex'])\n",
        "bd['region']  = le.fit_transform(bd['region'])\n",
        "bd['married']  = le.fit_transform(bd['married'])\n",
        "bd['car']  = le.fit_transform(bd['car'])\n",
        "bd['save_act']  = le.fit_transform(bd['save_act'])\n",
        "bd['current_act']  = le.fit_transform(bd['current_act'])\n",
        "bd['mortgage']  = le.fit_transform(bd['mortgage'])\n",
        "bd['pep']  = le.fit_transform(bd['pep'])\n",
        "bd.head()"
      ],
      "execution_count": null,
      "outputs": [
        {
          "output_type": "execute_result",
          "data": {
            "text/html": [
              "<div>\n",
              "<style scoped>\n",
              "    .dataframe tbody tr th:only-of-type {\n",
              "        vertical-align: middle;\n",
              "    }\n",
              "\n",
              "    .dataframe tbody tr th {\n",
              "        vertical-align: top;\n",
              "    }\n",
              "\n",
              "    .dataframe thead th {\n",
              "        text-align: right;\n",
              "    }\n",
              "</style>\n",
              "<table border=\"1\" class=\"dataframe\">\n",
              "  <thead>\n",
              "    <tr style=\"text-align: right;\">\n",
              "      <th></th>\n",
              "      <th>age</th>\n",
              "      <th>sex</th>\n",
              "      <th>region</th>\n",
              "      <th>income</th>\n",
              "      <th>married</th>\n",
              "      <th>children</th>\n",
              "      <th>car</th>\n",
              "      <th>save_act</th>\n",
              "      <th>current_act</th>\n",
              "      <th>mortgage</th>\n",
              "      <th>pep</th>\n",
              "    </tr>\n",
              "  </thead>\n",
              "  <tbody>\n",
              "    <tr>\n",
              "      <th>0</th>\n",
              "      <td>48</td>\n",
              "      <td>0</td>\n",
              "      <td>0</td>\n",
              "      <td>17546.0</td>\n",
              "      <td>0</td>\n",
              "      <td>1</td>\n",
              "      <td>0</td>\n",
              "      <td>0</td>\n",
              "      <td>0</td>\n",
              "      <td>0</td>\n",
              "      <td>1</td>\n",
              "    </tr>\n",
              "    <tr>\n",
              "      <th>1</th>\n",
              "      <td>40</td>\n",
              "      <td>1</td>\n",
              "      <td>3</td>\n",
              "      <td>30085.1</td>\n",
              "      <td>1</td>\n",
              "      <td>3</td>\n",
              "      <td>1</td>\n",
              "      <td>0</td>\n",
              "      <td>1</td>\n",
              "      <td>1</td>\n",
              "      <td>0</td>\n",
              "    </tr>\n",
              "    <tr>\n",
              "      <th>2</th>\n",
              "      <td>51</td>\n",
              "      <td>0</td>\n",
              "      <td>0</td>\n",
              "      <td>16575.4</td>\n",
              "      <td>1</td>\n",
              "      <td>0</td>\n",
              "      <td>1</td>\n",
              "      <td>1</td>\n",
              "      <td>1</td>\n",
              "      <td>0</td>\n",
              "      <td>0</td>\n",
              "    </tr>\n",
              "    <tr>\n",
              "      <th>3</th>\n",
              "      <td>23</td>\n",
              "      <td>0</td>\n",
              "      <td>3</td>\n",
              "      <td>20375.4</td>\n",
              "      <td>1</td>\n",
              "      <td>3</td>\n",
              "      <td>0</td>\n",
              "      <td>0</td>\n",
              "      <td>1</td>\n",
              "      <td>0</td>\n",
              "      <td>0</td>\n",
              "    </tr>\n",
              "    <tr>\n",
              "      <th>4</th>\n",
              "      <td>57</td>\n",
              "      <td>0</td>\n",
              "      <td>1</td>\n",
              "      <td>50576.3</td>\n",
              "      <td>1</td>\n",
              "      <td>0</td>\n",
              "      <td>0</td>\n",
              "      <td>1</td>\n",
              "      <td>0</td>\n",
              "      <td>0</td>\n",
              "      <td>0</td>\n",
              "    </tr>\n",
              "  </tbody>\n",
              "</table>\n",
              "</div>"
            ],
            "text/plain": [
              "   age  sex  region   income  ...  save_act  current_act  mortgage  pep\n",
              "0   48    0       0  17546.0  ...         0            0         0    1\n",
              "1   40    1       3  30085.1  ...         0            1         1    0\n",
              "2   51    0       0  16575.4  ...         1            1         0    0\n",
              "3   23    0       3  20375.4  ...         0            1         0    0\n",
              "4   57    0       1  50576.3  ...         1            0         0    0\n",
              "\n",
              "[5 rows x 11 columns]"
            ]
          },
          "metadata": {
            "tags": []
          },
          "execution_count": 5
        }
      ]
    },
    {
      "cell_type": "markdown",
      "metadata": {
        "id": "rWAhyNySp2ip"
      },
      "source": [
        "# OHE"
      ]
    },
    {
      "cell_type": "code",
      "metadata": {
        "colab": {
          "base_uri": "https://localhost:8080/",
          "height": 202
        },
        "id": "QURrmSNYp6ep",
        "outputId": "70aae3bb-5394-436e-84c2-697cdf3f0ba2"
      },
      "source": [
        "# Use get_dummies() function to perform one hot encoding on sex column\n",
        "df_enc = pd.get_dummies(bd, prefix = ['sex'], columns = ['sex'])\n",
        "df_enc.head()"
      ],
      "execution_count": null,
      "outputs": [
        {
          "output_type": "execute_result",
          "data": {
            "text/html": [
              "<div>\n",
              "<style scoped>\n",
              "    .dataframe tbody tr th:only-of-type {\n",
              "        vertical-align: middle;\n",
              "    }\n",
              "\n",
              "    .dataframe tbody tr th {\n",
              "        vertical-align: top;\n",
              "    }\n",
              "\n",
              "    .dataframe thead th {\n",
              "        text-align: right;\n",
              "    }\n",
              "</style>\n",
              "<table border=\"1\" class=\"dataframe\">\n",
              "  <thead>\n",
              "    <tr style=\"text-align: right;\">\n",
              "      <th></th>\n",
              "      <th>age</th>\n",
              "      <th>region</th>\n",
              "      <th>income</th>\n",
              "      <th>married</th>\n",
              "      <th>children</th>\n",
              "      <th>car</th>\n",
              "      <th>save_act</th>\n",
              "      <th>current_act</th>\n",
              "      <th>mortgage</th>\n",
              "      <th>pep</th>\n",
              "      <th>sex_0</th>\n",
              "      <th>sex_1</th>\n",
              "    </tr>\n",
              "  </thead>\n",
              "  <tbody>\n",
              "    <tr>\n",
              "      <th>0</th>\n",
              "      <td>48</td>\n",
              "      <td>0</td>\n",
              "      <td>17546.0</td>\n",
              "      <td>0</td>\n",
              "      <td>1</td>\n",
              "      <td>0</td>\n",
              "      <td>0</td>\n",
              "      <td>0</td>\n",
              "      <td>0</td>\n",
              "      <td>1</td>\n",
              "      <td>1</td>\n",
              "      <td>0</td>\n",
              "    </tr>\n",
              "    <tr>\n",
              "      <th>1</th>\n",
              "      <td>40</td>\n",
              "      <td>3</td>\n",
              "      <td>30085.1</td>\n",
              "      <td>1</td>\n",
              "      <td>3</td>\n",
              "      <td>1</td>\n",
              "      <td>0</td>\n",
              "      <td>1</td>\n",
              "      <td>1</td>\n",
              "      <td>0</td>\n",
              "      <td>0</td>\n",
              "      <td>1</td>\n",
              "    </tr>\n",
              "    <tr>\n",
              "      <th>2</th>\n",
              "      <td>51</td>\n",
              "      <td>0</td>\n",
              "      <td>16575.4</td>\n",
              "      <td>1</td>\n",
              "      <td>0</td>\n",
              "      <td>1</td>\n",
              "      <td>1</td>\n",
              "      <td>1</td>\n",
              "      <td>0</td>\n",
              "      <td>0</td>\n",
              "      <td>1</td>\n",
              "      <td>0</td>\n",
              "    </tr>\n",
              "    <tr>\n",
              "      <th>3</th>\n",
              "      <td>23</td>\n",
              "      <td>3</td>\n",
              "      <td>20375.4</td>\n",
              "      <td>1</td>\n",
              "      <td>3</td>\n",
              "      <td>0</td>\n",
              "      <td>0</td>\n",
              "      <td>1</td>\n",
              "      <td>0</td>\n",
              "      <td>0</td>\n",
              "      <td>1</td>\n",
              "      <td>0</td>\n",
              "    </tr>\n",
              "    <tr>\n",
              "      <th>4</th>\n",
              "      <td>57</td>\n",
              "      <td>1</td>\n",
              "      <td>50576.3</td>\n",
              "      <td>1</td>\n",
              "      <td>0</td>\n",
              "      <td>0</td>\n",
              "      <td>1</td>\n",
              "      <td>0</td>\n",
              "      <td>0</td>\n",
              "      <td>0</td>\n",
              "      <td>1</td>\n",
              "      <td>0</td>\n",
              "    </tr>\n",
              "  </tbody>\n",
              "</table>\n",
              "</div>"
            ],
            "text/plain": [
              "   age  region   income  married  ...  mortgage  pep  sex_0  sex_1\n",
              "0   48       0  17546.0        0  ...         0    1      1      0\n",
              "1   40       3  30085.1        1  ...         1    0      0      1\n",
              "2   51       0  16575.4        1  ...         0    0      1      0\n",
              "3   23       3  20375.4        1  ...         0    0      1      0\n",
              "4   57       1  50576.3        1  ...         0    0      1      0\n",
              "\n",
              "[5 rows x 12 columns]"
            ]
          },
          "metadata": {
            "tags": []
          },
          "execution_count": 6
        }
      ]
    },
    {
      "cell_type": "markdown",
      "metadata": {
        "id": "Y_f6l9w81YHp"
      },
      "source": [
        "# Train & Validate Naive Bayes Classifier"
      ]
    },
    {
      "cell_type": "code",
      "metadata": {
        "id": "sb2U4Aw3uZ9L"
      },
      "source": [
        "#indicate the target column\n",
        "target = bd['pep']\n",
        "\n",
        "#indicate columns that will serve as features uisng drop\n",
        "features = bd.drop('pep', axis = 1)"
      ],
      "execution_count": null,
      "outputs": []
    },
    {
      "cell_type": "code",
      "metadata": {
        "id": "XEEgMHyU2im1"
      },
      "source": [
        "#split data into training and test dataset\n",
        "\n",
        "#import train_test_split function\n",
        "from sklearn.model_selection import train_test_split\n",
        "\n",
        "##split the dataset into training and test set\n",
        "#\\ means that nak bagitau yg dia satu line tapi sambung di bawah\n",
        "x_train, x_test, y_train, y_test = train_test_split(features, target, \\\n",
        "                                                    test_size = 0.2, random_state = 0 )"
      ],
      "execution_count": null,
      "outputs": []
    },
    {
      "cell_type": "markdown",
      "metadata": {
        "id": "iM0UQVDD4Tzr"
      },
      "source": [
        "## Gaussian Naive Bayes"
      ]
    },
    {
      "cell_type": "code",
      "metadata": {
        "colab": {
          "base_uri": "https://localhost:8080/"
        },
        "id": "j3ivM-WP4H8f",
        "outputId": "fe7833b8-8f00-4e04-dbb9-5c3fd44fc32d"
      },
      "source": [
        "#import function for k fold cross validation\n",
        "from sklearn.model_selection import cross_val_score\n",
        "#import the gaussian naive bayes classifier\n",
        "from sklearn.naive_bayes import GaussianNB\n",
        "\n",
        "#create a Gaussian Naive Bayes classifier with default parameter\n",
        "gnb = GaussianNB()\n",
        "\n",
        "#use 10 fold cross validation to perform training and validation on the training set\n",
        "#parameter scoring = 'accuracy' will complete accuracy\n",
        "scores = cross_val_score(gnb, x_train, y_train, cv = 10, scoring ='accuracy')\n",
        "\n",
        "#display the array containing accuracy from 10 folds or 10 iterations\n",
        "scores\n"
      ],
      "execution_count": null,
      "outputs": [
        {
          "output_type": "execute_result",
          "data": {
            "text/plain": [
              "array([0.54166667, 0.66666667, 0.6875    , 0.58333333, 0.64583333,\n",
              "       0.70833333, 0.5625    , 0.70833333, 0.625     , 0.70833333])"
            ]
          },
          "metadata": {
            "tags": []
          },
          "execution_count": 9
        }
      ]
    },
    {
      "cell_type": "code",
      "metadata": {
        "colab": {
          "base_uri": "https://localhost:8080/"
        },
        "id": "EkJpmuoT8l6O",
        "outputId": "743d1af9-7609-4d00-8818-a592fa34281e"
      },
      "source": [
        "#print the mean accuracy score\n",
        "print('Accuracy (Validation) = ', scores.mean())"
      ],
      "execution_count": null,
      "outputs": [
        {
          "output_type": "stream",
          "text": [
            "Accuracy (Validation) =  0.64375\n"
          ],
          "name": "stdout"
        }
      ]
    },
    {
      "cell_type": "code",
      "metadata": {
        "colab": {
          "base_uri": "https://localhost:8080/"
        },
        "id": "JHUqEzpV85E0",
        "outputId": "f2f817a8-8cb6-4131-f4d8-3ef351869296"
      },
      "source": [
        "#import scikit-learn metrics module for accuracy calculation\n",
        "from sklearn import metrics\n",
        "\n",
        "#running prediction\n",
        "gnb.fit(x_train, y_train)\n",
        "\n",
        "#predict the target for the test datasset\n",
        "test_predict = gnb.predict(x_test)\n",
        "\n",
        "#compute the model accuracy on the development set : How oftenis the classifier correcct?\n",
        "print ('Accuracy teat :', metrics.accuracy_score(y_test, test_predict))"
      ],
      "execution_count": null,
      "outputs": [
        {
          "output_type": "stream",
          "text": [
            "Accuracy teat : 0.5916666666666667\n"
          ],
          "name": "stdout"
        }
      ]
    },
    {
      "cell_type": "markdown",
      "metadata": {
        "id": "B6TGyZUOAKin"
      },
      "source": [
        "## Bernoulli"
      ]
    },
    {
      "cell_type": "code",
      "metadata": {
        "colab": {
          "base_uri": "https://localhost:8080/"
        },
        "id": "vzB1gEf3AA1_",
        "outputId": "e4512bbf-9b6c-4546-9fd2-f7d87d49e2b3"
      },
      "source": [
        "#import Bernoulli Naive Bayes Classifier\n",
        "from sklearn.naive_bayes import BernoulliNB\n",
        "\n",
        "#create a bernoulli naive baernoulli naive bayes classifier with default parameter\n",
        "bnb = BernoulliNB(binarize = 0.0)\n",
        "\n",
        "#use 10 fold cross validation to perform traininf and validation on the training hset\n",
        "scores = cross_val_score(bnb, x_train, y_train, cv = 10, scoring = 'accuracy')\n",
        "\n",
        "#display the array containing accuracy from 10 folds or iterations\n",
        "scores"
      ],
      "execution_count": null,
      "outputs": [
        {
          "output_type": "execute_result",
          "data": {
            "text/plain": [
              "array([0.60416667, 0.54166667, 0.5       , 0.625     , 0.54166667,\n",
              "       0.60416667, 0.5       , 0.60416667, 0.60416667, 0.60416667])"
            ]
          },
          "metadata": {
            "tags": []
          },
          "execution_count": 12
        }
      ]
    },
    {
      "cell_type": "code",
      "metadata": {
        "colab": {
          "base_uri": "https://localhost:8080/"
        },
        "id": "dqE9ZJL-Cb9s",
        "outputId": "9398114e-6074-48c2-d295-fdeb3908e244"
      },
      "source": [
        "print ('Accuracy = ', scores.mean())"
      ],
      "execution_count": null,
      "outputs": [
        {
          "output_type": "stream",
          "text": [
            "Accuracy =  0.5729166666666667\n"
          ],
          "name": "stdout"
        }
      ]
    },
    {
      "cell_type": "code",
      "metadata": {
        "colab": {
          "base_uri": "https://localhost:8080/"
        },
        "id": "DAK9Gi87Ck-g",
        "outputId": "ae34cc59-f2ba-4c6c-ffb3-f3bb56e57a75"
      },
      "source": [
        "# Running prediction\n",
        "bnb.fit(x_train, y_train)\n",
        "\n",
        "# Predict the target for the test dataset\n",
        "test_predict = bnb.predict(x_test)\n",
        "\n",
        "# Compute the model accuracy on the development set: How often is the classifier correct?\n",
        "print(\"Accuracy (Test): \", metrics.accuracy_score(y_test, test_predict))"
      ],
      "execution_count": null,
      "outputs": [
        {
          "output_type": "stream",
          "text": [
            "Accuracy (Test):  0.525\n"
          ],
          "name": "stdout"
        }
      ]
    },
    {
      "cell_type": "markdown",
      "metadata": {
        "id": "AKL4lkEtDBRA"
      },
      "source": [
        "## Multinomial"
      ]
    },
    {
      "cell_type": "code",
      "metadata": {
        "colab": {
          "base_uri": "https://localhost:8080/"
        },
        "id": "ErT5-lisC-Zv",
        "outputId": "6ce971ff-0c83-4a0a-a186-4a340b838beb"
      },
      "source": [
        "#import the multinomial naive bayes classifier\n",
        "from sklearn.naive_bayes import MultinomialNB\n",
        "\n",
        "#create a multinomial naive bayes with default parameter\n",
        "mnb = MultinomialNB()\n",
        "\n",
        "#use 10 fold cross validation to perform training and validation o the training set\n",
        "scores = cross_val_score(mnb, x_train, y_train, cv = 5, scoring = 'accuracy')\n",
        "\n",
        "scores"
      ],
      "execution_count": null,
      "outputs": [
        {
          "output_type": "execute_result",
          "data": {
            "text/plain": [
              "array([0.5625    , 0.54166667, 0.59375   , 0.67708333, 0.61458333])"
            ]
          },
          "metadata": {
            "tags": []
          },
          "execution_count": 15
        }
      ]
    },
    {
      "cell_type": "code",
      "metadata": {
        "colab": {
          "base_uri": "https://localhost:8080/"
        },
        "id": "PxG1fX9OECOP",
        "outputId": "bcbe0e2b-7a92-4813-c159-5caa17769fe7"
      },
      "source": [
        "print('Accuracy = ', scores.mean())"
      ],
      "execution_count": null,
      "outputs": [
        {
          "output_type": "stream",
          "text": [
            "Accuracy =  0.5979166666666667\n"
          ],
          "name": "stdout"
        }
      ]
    },
    {
      "cell_type": "code",
      "metadata": {
        "colab": {
          "base_uri": "https://localhost:8080/"
        },
        "id": "pedRY4nEEJkj",
        "outputId": "8818c330-2790-4833-998d-73e79bd035b0"
      },
      "source": [
        "# Running prediction\n",
        "mnb.fit(x_train, y_train)\n",
        "\n",
        "# Predict the target for the test dataset\n",
        "test_predict = mnb.predict(x_test)\n",
        "\n",
        "# Compute the model accuracy on the development set: How often is the classifier correct?\n",
        "print(\"Accuracy (Test): \", metrics.accuracy_score(y_test, test_predict))"
      ],
      "execution_count": null,
      "outputs": [
        {
          "output_type": "stream",
          "text": [
            "Accuracy (Test):  0.5416666666666666\n"
          ],
          "name": "stdout"
        }
      ]
    }
  ]
}